{
 "cells": [
  {
   "cell_type": "code",
   "execution_count": null,
   "metadata": {
    "deletable": false,
    "editable": false
   },
   "outputs": [],
   "source": [
    "# Initialize OK\n",
    "from client.api.notebook import Notebook\n",
    "ok = Notebook('lab4.ok')"
   ]
  },
  {
   "cell_type": "markdown",
   "metadata": {},
   "source": [
    "# Lab 4: Principal Component Analysis\n",
    "\n",
    "In this lab assignment, we will walk through two examples of Principal Component Analysis (PCA).\n",
    "\n",
    "The first is on the classic handwriting digits dataset to show the immediate utility that PCA can provide.\n",
    "\n",
    "In the second example, we will take a closer look at how PCA works via a diabetes dataset.\n",
    "\n",
    "## Due Date\n",
    "\n",
    "This assignment is due **Wednesday, May 1st at 11:59pm PST**.\n",
    "\n",
    "**Collaboration Policy**\n",
    "\n",
    "Data science is a collaborative activity. While you may talk with others about the homework, we ask that you **write your solutions individually**. If you do discuss the assignments with others please **include their names** in the cell below."
   ]
  },
  {
   "cell_type": "markdown",
   "metadata": {},
   "source": [
    "**Collaborators:** ..."
   ]
  },
  {
   "cell_type": "markdown",
   "metadata": {},
   "source": [
    "## Handwriting Digits\n",
    "\n",
    "### The handwriting section of this notebook was taken from materials here from Jake VanderPlas: https://jakevdp.github.io/PythonDataScienceHandbook/05.09-principal-component-analysis.html"
   ]
  },
  {
   "cell_type": "code",
   "execution_count": 1,
   "metadata": {},
   "outputs": [],
   "source": [
    "%matplotlib inline\n",
    "import numpy as np\n",
    "import matplotlib.pyplot as plt\n",
    "import seaborn as sns; sns.set()\n",
    "from sklearn.decomposition import PCA"
   ]
  },
  {
   "cell_type": "markdown",
   "metadata": {},
   "source": [
    "Let's load the handwriting digits and look at the shape:"
   ]
  },
  {
   "cell_type": "code",
   "execution_count": 2,
   "metadata": {},
   "outputs": [],
   "source": [
    "from sklearn.datasets import load_digits\n",
    "digits = load_digits()\n",
    "digits.data.shape"
   ]
  },
  {
   "cell_type": "markdown",
   "metadata": {},
   "source": [
    "Note that there are 1797 images and each one is 8x8, or 64 pixels"
   ]
  },
  {
   "cell_type": "markdown",
   "metadata": {},
   "source": [
    "#### Let's take a look at the handwriting digits dataset:"
   ]
  },
  {
   "cell_type": "code",
   "execution_count": 3,
   "metadata": {},
   "outputs": [],
   "source": [
    "# set up the figure\n",
    "fig = plt.figure(figsize=(6, 6))  # figure size in inches\n",
    "fig.subplots_adjust(left=0, right=1, bottom=0, top=1, hspace=0.05, wspace=0.05)\n",
    "\n",
    "# plot the digits: each image is 8x8 pixels\n",
    "for i in range(64):\n",
    "    ax = fig.add_subplot(8, 8, i + 1, xticks=[], yticks=[])\n",
    "    ax.imshow(digits.images[i], cmap=plt.cm.binary, interpolation='nearest')\n",
    "    \n",
    "    # label the image with the target value\n",
    "    ax.text(0, 7, str(digits.target[i]))"
   ]
  },
  {
   "cell_type": "markdown",
   "metadata": {},
   "source": [
    "The digits themselves are 64-dimensional since they are 8x8. Let's use PCA to project the digits into two dimensions and look at the representation of the digits we get.\n",
    "\n",
    "Note that the dimension changes so that we got from 64-dimensional to 2-dimensional."
   ]
  },
  {
   "cell_type": "code",
   "execution_count": 4,
   "metadata": {},
   "outputs": [],
   "source": [
    "pca = PCA(2)  # project from 64 to 2 dimensions\n",
    "projected = pca.fit_transform(digits.data)\n",
    "print(digits.data.shape)\n",
    "print(projected.shape)"
   ]
  },
  {
   "cell_type": "code",
   "execution_count": 5,
   "metadata": {},
   "outputs": [],
   "source": [
    "plt.scatter(projected[:, 0], projected[:, 1],\n",
    "            c=digits.target, edgecolor='none', alpha=0.5,\n",
    "            cmap=plt.cm.get_cmap('nipy_spectral', 10))\n",
    "plt.xlabel('component 1')\n",
    "plt.ylabel('component 2')\n",
    "plt.colorbar();"
   ]
  },
  {
   "cell_type": "markdown",
   "metadata": {},
   "source": [
    "Note that in two dimensions we can get an interesting visualization of the digits. Without doing any supervised learning - without clustering at all - we see the digits basically separate themselves into different regions.\n",
    "\n",
    "This is one of the main advantages of PCA. Our data began as 64-dimensional, but using simple techniques we were able to reduce it into the two dimensions that explain most of the variation in the data.\n",
    "\n",
    "In fact, let's do PCA, return the first 20 components, and examine a cumulative variance plot."
   ]
  },
  {
   "cell_type": "code",
   "execution_count": 6,
   "metadata": {},
   "outputs": [],
   "source": [
    "pca = PCA(20).fit(digits.data)\n",
    "plt.plot(np.cumsum(pca.explained_variance_ratio_))\n",
    "plt.xlabel('Number of components')\n",
    "plt.ylabel('Cumulative explained variance');"
   ]
  },
  {
   "cell_type": "markdown",
   "metadata": {},
   "source": [
    "In the cell above, we plot the cumulative variance of the number of components. You can see that with the first 20 components we can explain about 90% of the variance in the data. But the previous plot shows us that even with two components we can get a good representation of our digits.\n",
    "\n",
    "PCA-type methods can be useful in storing images. Rather than store the entire image, your phone/computer can store the PCA representation of it and preserve most of the quality."
   ]
  },
  {
   "cell_type": "markdown",
   "metadata": {},
   "source": [
    "## Now we'll take a closer look at PCA using a diabetes dataset."
   ]
  },
  {
   "cell_type": "code",
   "execution_count": 7,
   "metadata": {},
   "outputs": [],
   "source": [
    "from sklearn.datasets import load_diabetes\n",
    "import pandas as pd\n",
    "from scipy import stats\n",
    "%matplotlib inline"
   ]
  },
  {
   "cell_type": "code",
   "execution_count": 8,
   "metadata": {},
   "outputs": [],
   "source": [
    "diabetes_data = load_diabetes() # Loading the dataset"
   ]
  },
  {
   "cell_type": "markdown",
   "metadata": {
    "deletable": false,
    "editable": false
   },
   "source": [
    "Let's take a look at the description of the diabetes dataset. Apply `.DESCR` to the `diabetes_data` to learn about the dataset. Use the `print` function to make it look nice.\n",
    "\n",
    "<!--\n",
    "BEGIN QUESTION\n",
    "name: q0a\n",
    "-->"
   ]
  },
  {
   "cell_type": "code",
   "execution_count": 9,
   "metadata": {},
   "outputs": [],
   "source": [
    "..."
   ]
  },
  {
   "cell_type": "markdown",
   "metadata": {},
   "source": [
    "From the description above, we learn that there are 10 columns of numeric predictive values. Column 11 is the target value. Let's grab these from the data and make new variables for them."
   ]
  },
  {
   "cell_type": "markdown",
   "metadata": {
    "deletable": false,
    "editable": false
   },
   "source": [
    "In the cell below, create a new variable `diabetes_features` that gets the `data` attribute of `diabetes_data`. \n",
    "\n",
    "Similarly, make a new variable `diabetes_target` that get the `target` attribute of `diabetes_data.`\n",
    "\n",
    "<!--\n",
    "BEGIN QUESTION\n",
    "name: q0b\n",
    "-->"
   ]
  },
  {
   "cell_type": "code",
   "execution_count": 10,
   "metadata": {},
   "outputs": [],
   "source": [
    "# Grab the feature names\n",
    "diabetes_feature_names = diabetes_data['feature_names']\n",
    "\n",
    "# Unpacking the data into new variables\n",
    "diabetes_features = ...\n",
    "diabetes_target = ...\n"
   ]
  },
  {
   "cell_type": "markdown",
   "metadata": {},
   "source": [
    "Last, let's look at some summary statistics of `diabetes_target.`"
   ]
  },
  {
   "cell_type": "code",
   "execution_count": 11,
   "metadata": {},
   "outputs": [],
   "source": [
    "# Look at the summary statistics of numpy array diabetes_target\n",
    "stats.describe(diabetes_target)"
   ]
  },
  {
   "cell_type": "markdown",
   "metadata": {},
   "source": [
    "We see that the mean is about 152. Let's make a new variable called `diabetes_class` that has value `Above152` if the mean is above 152 and `Below152` if the mean is below it."
   ]
  },
  {
   "cell_type": "code",
   "execution_count": 12,
   "metadata": {},
   "outputs": [],
   "source": [
    "# Run a loop to make a class variable for the target\n",
    "diabetes_class = []\n",
    "for i in range(0,442):\n",
    "    # Get current value of list\n",
    "    current_num = diabetes_target[i]\n",
    "    # If the current value exceeds 152, add \"Above152\" to the list\n",
    "    if current_num > 152:\n",
    "        diabetes_class.append(\"Above152\")\n",
    "    # If it doesn't add \"Below152\"\n",
    "    else: \n",
    "        diabetes_class.append(\"Below152\")\n",
    "\n",
    "\n",
    "diabetes_class"
   ]
  },
  {
   "cell_type": "markdown",
   "metadata": {},
   "source": [
    "Next, assign `diabetes_class` to `diabetes_target` so that we can use `diabetes_target` for visualization."
   ]
  },
  {
   "cell_type": "code",
   "execution_count": 13,
   "metadata": {},
   "outputs": [],
   "source": [
    "diabetes_target = diabetes_class"
   ]
  },
  {
   "cell_type": "markdown",
   "metadata": {
    "deletable": false,
    "editable": false
   },
   "source": [
    "## Question 1\n",
    "\n",
    "Let's explore the data by creating a scatter matrix of our diabetes features. To do this, we'll create 2D scatter plots for nine of our features, excluding sex.\n",
    "\n",
    "Complete the code below using `sns.pairplot` to create the scatter matrix of `diabetes_df`. Specify the `vars` to be all of the columns except for `sex`.\n",
    "\n",
    "**Hint:** Use the `hue` argument of `sns.pairplot` to color the points by `target`. A legend should then appear automatically on the right side of the figure.\n",
    "\n",
    "<!--\n",
    "BEGIN QUESTION\n",
    "name: q1a\n",
    "-->"
   ]
  },
  {
   "cell_type": "code",
   "execution_count": 14,
   "metadata": {},
   "outputs": [],
   "source": [
    "# Create a Pandas dataframe of the features\n",
    "diabetes_df = pd.DataFrame(diabetes_features, columns = ['age', 'sex', 'bmi', 'bp', 's1', 's2', 's3', 's4', 's5', 's6'])\n",
    "\n",
    "# Add the target column to the data frame\n",
    "diabetes_df['target'] = diabetes_target\n",
    "\n",
    "# Make the plot using the instructions above\n",
    "..."
   ]
  },
  {
   "cell_type": "markdown",
   "metadata": {
    "deletable": false,
    "editable": false
   },
   "source": [
    "Are there any interesting relationships that you see? List at least two relationships you find notable.\n",
    "<!--\n",
    "BEGIN QUESTION\n",
    "name: q1b\n",
    "-->"
   ]
  },
  {
   "cell_type": "markdown",
   "metadata": {},
   "source": [
    "*Write your answer here, replacing this text.*"
   ]
  },
  {
   "cell_type": "markdown",
   "metadata": {
    "deletable": false,
    "editable": false
   },
   "source": [
    "## Question 2a\n",
    "\n",
    "To apply PCA, we will first need to \"center\" the data so that the mean of each feature is 0. Additionally, we will need to scale the centered data by $\\frac{1}{\\sqrt n}$, where $n$ is the number of samples (rows) we have in our dataset. \n",
    "\n",
    "**Do you know why it is important to center and scale the data before applying PCA? Ask a tutor or TA if you are unsure.**\n",
    "\n",
    "<!--\n",
    "BEGIN QUESTION\n",
    "name: q2a\n",
    "-->"
   ]
  },
  {
   "cell_type": "markdown",
   "metadata": {},
   "source": [
    "*Write your answer here, replacing this text.*"
   ]
  },
  {
   "cell_type": "markdown",
   "metadata": {
    "deletable": false,
    "editable": false
   },
   "source": [
    "## Question 2b\n",
    "\n",
    "Compute the columnwise mean of `diabetes_features` in the cell below and store it in `diabetes_mean` (should be a numpy array of 10 means, 1 for each attribute). Then, subtract `diabetes_mean` from `diabetes_features`, divide the result by the $\\sqrt n$, and save the result in `normalized_features`.\n",
    "\n",
    "**Hints:** \n",
    "* Use `np.mean` or `np.average` to compute `diabetes_mean`, and pay attention to the `axis` argument.\n",
    "* If you are confused about how numpy deals with arithmetic operations between arrays of different shapes, see this note about [broadcasting](https://docs.scipy.org/doc/numpy/user/basics.broadcasting.html) for explanations/examples.\n",
    "\n",
    "<!--\n",
    "BEGIN QUESTION\n",
    "name: q2b\n",
    "-->"
   ]
  },
  {
   "cell_type": "code",
   "execution_count": 15,
   "metadata": {},
   "outputs": [],
   "source": [
    "n = diabetes_features.shape[0] # should be 442\n",
    "diabetes_mean = ...\n",
    "normalized_features = ..."
   ]
  },
  {
   "cell_type": "code",
   "execution_count": null,
   "metadata": {
    "deletable": false,
    "editable": false
   },
   "outputs": [],
   "source": [
    "ok.grade(\"q2b\");"
   ]
  },
  {
   "cell_type": "markdown",
   "metadata": {
    "deletable": false,
    "editable": false
   },
   "source": [
    "## Question 2c\n",
    "\n",
    "As you may recall from lecture, PCA is a specific application of the singular value decomposition (SVD) for matrices. In the following cell, let's use the [`np.linalg.svd`](https://docs.scipy.org/doc/numpy/reference/generated/numpy.linalg.svd.html) function compute the SVD of our `normalized_features`. Store the left singular vectors, singular values, and right singular vectors in `u`, `s`, and `vt` respectively.\n",
    "\n",
    "**Hint:** Set the `full_matrices` argument of `np.linalg.svd` to `False`.\n",
    "\n",
    "<!--\n",
    "BEGIN QUESTION\n",
    "name: q2c\n",
    "-->"
   ]
  },
  {
   "cell_type": "code",
   "execution_count": 20,
   "metadata": {},
   "outputs": [],
   "source": [
    "...\n",
    "u.shape, s, vt.shape"
   ]
  },
  {
   "cell_type": "code",
   "execution_count": null,
   "metadata": {
    "deletable": false,
    "editable": false
   },
   "outputs": [],
   "source": [
    "ok.grade(\"q2c\");"
   ]
  },
  {
   "cell_type": "markdown",
   "metadata": {
    "deletable": false,
    "editable": false
   },
   "source": [
    "## Question 2d\n",
    "\n",
    "What can we learn from the singular values in `s`? First, we can compute the total variance of the data by summing the squared singular values. We will later be able to use this value to determine the variance captured by a subset of our principal components.\n",
    "\n",
    "Compute the total variance below by summing the square of `s` and store the result in the variable `total_variance`.\n",
    "\n",
    "<!--\n",
    "BEGIN QUESTION\n",
    "name: q2d\n",
    "-->"
   ]
  },
  {
   "cell_type": "code",
   "execution_count": 24,
   "metadata": {},
   "outputs": [],
   "source": [
    "total_variance = ...\n",
    "print(\"total_variance: {:.3f} should approximately equal the sum of feature variances: {:.3f}\"\n",
    "      .format(total_variance, np.sum(np.var(diabetes_features, axis=0))))"
   ]
  },
  {
   "cell_type": "code",
   "execution_count": null,
   "metadata": {
    "deletable": false,
    "editable": false
   },
   "outputs": [],
   "source": [
    "ok.grade(\"q2d\");"
   ]
  },
  {
   "cell_type": "markdown",
   "metadata": {
    "deletable": false,
    "editable": false
   },
   "source": [
    "## Question 3a\n",
    "\n",
    "Let's now use only the first two principal components to see what a 2D version of our diabetes data looks like.\n",
    "\n",
    "First, construct the 2D version of the diabetes data by matrix-multiplying our `normalized_features` by the first two right singular vectors in `v`. This will project the diabetes data down from a 10D subspace to a 2D subspace, and the first two right singular vectors are directions for the first two principal components.\n",
    "\n",
    "**Hints:**\n",
    "* To matrix multiply two numpy arrays, use @ or np.dot.\n",
    "* The first two right singular vectors in `v` will be the first two columns of `v`, or the first two rows of `vt` (transposed to be column vectors instead of row vectors). \n",
    "* Since we want to obtain a 2D version of our diabetes dataset, the shape of `diabetes_2d` should be (442, 2).\n",
    "\n",
    "<!--\n",
    "BEGIN QUESTION\n",
    "name: q3a\n",
    "-->"
   ]
  },
  {
   "cell_type": "code",
   "execution_count": 27,
   "metadata": {},
   "outputs": [],
   "source": [
    "diabetes_2d = ...\n",
    "diabetes_2d[0]"
   ]
  },
  {
   "cell_type": "code",
   "execution_count": null,
   "metadata": {
    "deletable": false,
    "editable": false
   },
   "outputs": [],
   "source": [
    "ok.grade(\"q3a\");"
   ]
  },
  {
   "cell_type": "markdown",
   "metadata": {},
   "source": [
    "Now, run the cell below to create the scatter plot of our 2D version of the diabetes data, `diabetes_2d`."
   ]
  },
  {
   "cell_type": "code",
   "execution_count": 31,
   "metadata": {},
   "outputs": [],
   "source": [
    "plt.figure(figsize=(9, 6))\n",
    "plt.title(\"PC2 vs. PC1 for Diabetes Data\")\n",
    "plt.xlabel(\"Diabetes PC1\")\n",
    "plt.ylabel(\"Diabetes PC2\")\n",
    "sns.scatterplot(diabetes_2d[:, 0], diabetes_2d[:, 1], hue=diabetes_target);"
   ]
  },
  {
   "cell_type": "markdown",
   "metadata": {
    "deletable": false,
    "editable": false
   },
   "source": [
    "## Question 3b\n",
    "\n",
    "What do you observe about the plot above? \n",
    "\n",
    "What value of PC1 would you use as a cutoff to distinguish between `Above152` and `Below152`?\n",
    "\n",
    "<!--\n",
    "BEGIN QUESTION\n",
    "name: q3b\n",
    "-->"
   ]
  },
  {
   "cell_type": "markdown",
   "metadata": {},
   "source": [
    "*Write your answer here, replacing this text.*"
   ]
  },
  {
   "cell_type": "markdown",
   "metadata": {
    "deletable": false,
    "editable": false
   },
   "source": [
    "## Question 3c\n",
    "\n",
    "What proportion of the total variance is accounted for when we project the diabetes data down to two dimensions? Compute this quantity in the cell below by dividing the sum of the first two squared singular values (also known as component scores) in `s` by the `total_variance` you calculated previously. Store the result in `two_dim_variance`.\n",
    "\n",
    "**Hint:** You can use the code from before where you calculated total variance, but this time, only sum the first two components.\n",
    "\n",
    "<!--\n",
    "BEGIN QUESTION\n",
    "name: q3c\n",
    "-->"
   ]
  },
  {
   "cell_type": "code",
   "execution_count": 32,
   "metadata": {},
   "outputs": [],
   "source": [
    "two_dim_variance = ...\n",
    "two_dim_variance"
   ]
  },
  {
   "cell_type": "code",
   "execution_count": null,
   "metadata": {
    "deletable": false,
    "editable": false
   },
   "outputs": [],
   "source": [
    "ok.grade(\"q3c\");"
   ]
  },
  {
   "cell_type": "markdown",
   "metadata": {
    "deletable": false,
    "editable": false
   },
   "source": [
    "## Question 4\n",
    "\n",
    "As a last step, let's create a [scree plot](https://en.wikipedia.org/wiki/Scree_plot) to visualize the weight of each of each principal component. In the cell below, create a scree plot by plotting a line plot of the square of the singular values in `s` vs. the principal component number (1st, 2nd, 3rd, or 4th).\n",
    "\n",
    "<!--\n",
    "BEGIN QUESTION\n",
    "name: q4\n",
    "-->"
   ]
  },
  {
   "cell_type": "code",
   "execution_count": 34,
   "metadata": {},
   "outputs": [],
   "source": [
    "..."
   ]
  },
  {
   "cell_type": "markdown",
   "metadata": {},
   "source": [
    "### You have completed Lab 4!"
   ]
  },
  {
   "cell_type": "markdown",
   "metadata": {
    "deletable": false,
    "editable": false
   },
   "source": [
    "# Submit\n",
    "Make sure you have run all cells in your notebook in order before running the cell below, so that all images/graphs appear in the output.\n",
    "**Please save before submitting!**"
   ]
  },
  {
   "cell_type": "code",
   "execution_count": null,
   "metadata": {
    "deletable": false,
    "editable": false
   },
   "outputs": [],
   "source": [
    "# Save your notebook first, then run this cell to submit.\n",
    "ok.submit()"
   ]
  }
 ],
 "metadata": {
  "kernelspec": {
   "display_name": "Python 3",
   "language": "python",
   "name": "python3"
  },
  "language_info": {
   "codemirror_mode": {
    "name": "ipython",
    "version": 3
   },
   "file_extension": ".py",
   "mimetype": "text/x-python",
   "name": "python",
   "nbconvert_exporter": "python",
   "pygments_lexer": "ipython3",
   "version": "3.6.7"
  }
 },
 "nbformat": 4,
 "nbformat_minor": 2
}
