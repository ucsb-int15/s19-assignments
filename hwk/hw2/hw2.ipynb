{
 "cells": [
  {
   "cell_type": "code",
   "execution_count": null,
   "metadata": {
    "deletable": false,
    "editable": false
   },
   "outputs": [],
   "source": [
    "# Initialize OK\n",
    "from client.api.notebook import Notebook\n",
    "ok = Notebook('hw2.ok')"
   ]
  },
  {
   "cell_type": "markdown",
   "metadata": {},
   "source": [
    "# Homework 2: Exploratory Data Analysis in Professional Basketball\n",
    "\n",
    "In this assignment we'll conduct an exploratory data analysis of professional basketball data.  Basketball is a team sport in which the goal is to try to outscore the amount in a fixed amount of time. Points are scored (either 2 or 3 points) by putting the ball throw a hoop on one end of the court.  An attempt at putting the ball throw the hoop is known as a \"shot\".  If helpful, you can read more about [the rules of basketball](https://en.wikipedia.org/wiki/Rules_of_basketball).\n",
    "\n",
    "The National Basketball Association (NBA) is the professional basketball league in the United States and provides a nice website with many statistics gathered on teams and players in the league: [http://stat.nba.com](http://stat.nba.com). \n",
    "\n",
    "## Part 1: Getting the Data\n",
    "\n",
    "As an example, in order to navigate to the shooting records for Stephen Curry, one of the most famous players, you navigate their menus to get to here:\n",
    "\n",
    "> [http://stats.nba.com/player/201939/shooting/?Season=2018-19&SeasonType=Regular%20Season](http://stats.nba.com/player/201939/shooting/?Season=2018-19&SeasonType=Regular%20Season)\n",
    "\n",
    "Here, we see some information related to our choices:\n",
    "- Season: 2018-19\n",
    "- SeasonType: Regular Season (Note that [%20 is character code for space](https://en.wikipedia.org/wiki/Percent-encoding#Character_data))\n",
    "- Player: 201939 (less obvious)\n",
    "\n",
    "This type of URL is using a [GET method](https://www.w3schools.com/tags/ref_httpmethods.asp). When your URLs are very long, it is usually passing a series of variables and values to the web page. There are tools such as this [online URL parser](https://www.freeformatter.com/url-parser-query-string-splitter.html). Try passing in the URL.\n",
    "\n",
    "Knowledge of how web sites work is useful for data science since there is so much interaction through the web."
   ]
  },
  {
   "cell_type": "markdown",
   "metadata": {
    "collapsed": true
   },
   "source": [
    "We've provided a function that requests data from `stats.nba.com`. \n",
    "\n",
    "**User agent**: Inside the function there is a string variable for what is called a User Agent. Suitably setting this user agent string allows you to mimic any browser. Websites can return different content depending on the browser (i.e. user agent) users use to connect.  In the case of stats.nba.com, they block programatic scraping their pages using `wget` (with user agent, \"Wget/1.19.4 (linux-gnu)\" if you are using the course server) However, by specifying the user agent string in `get_nba_data`, we pretend that our connection is from a user using a Mozilla-type browser on OS X. \n",
    "\n",
    "**End point**: NBA has many different data: e.g., teams, players, games, etc. An end point is a URL designated for a specific type of data they provide. For example, a GET URL using `http://stats.nba.com/stats/commonallplayers` as the base URL will return players data. Other end points are listed here: https://github.com/seemethere/nba_py/wiki/stats.nba.com-Endpoint-Documentation.\n",
    "\n",
    "Unfortunately, NBA seem have blocked the IP of the int15 cluster.  You can use the function on you own machine if python, [IPython](https://ipython.readthedocs.io/en/stable/interactive/python-ipython-diff.html#shell-assignment), and `wget` utility are installed.\n",
    "\n",
    "The function will do the following:\n",
    "1. Set User Agent\n",
    "1. Set base URL with appropriate end point\n",
    "1. Set parameters required for query\n",
    "1. Read JSON string into python variable\n",
    "1. Parse JSON string into python object\n",
    "1. Convert the objects into pandas a data frame"
   ]
  },
  {
   "cell_type": "code",
   "execution_count": 1,
   "metadata": {},
   "outputs": [],
   "source": [
    "def get_nba_data(endpt, params, return_url=False):\n",
    "\n",
    "    ## endpt: https://github.com/seemethere/nba_py/wiki/stats.nba.com-Endpoint-Documentation\n",
    "    ## params: dictionary of parameters: i.e., {'LeagueID':'00'}\n",
    "    \n",
    "    from pandas import DataFrame\n",
    "    from urllib.parse import urlencode\n",
    "    import json\n",
    "    \n",
    "    useragent = \"\\\"Mozilla/5.0 (Macintosh; Intel Mac OS X 10_11_2) AppleWebKit/601.3.9 (KHTML, like Gecko) Version/9.0.2 Safari/601.3.9\\\"\"\n",
    "    dataurl = \"\\\"\" + \"http://stats.nba.com/stats/\" + endpt + \"?\" + urlencode(params) + \"\\\"\"\n",
    "    \n",
    "    # for debugging: just return the url\n",
    "    if return_url:\n",
    "        return(dataurl)\n",
    "    \n",
    "    jsonstr = !wget -q -O - --user-agent={useragent} {dataurl}\n",
    "    \n",
    "    data = json.loads(jsonstr[0])\n",
    "    \n",
    "    h = data['resultSets'][0]['headers']\n",
    "    d = data['resultSets'][0]['rowSet']\n",
    "    \n",
    "    return(DataFrame(d, columns=h))"
   ]
  },
  {
   "cell_type": "markdown",
   "metadata": {
    "collapsed": true
   },
   "source": [
    "The function fetches the JSON and converts the JSON to a DataFrame that we can manipulate.  JSON format is very similar to Python dictionary: i.e., keys and values.  There are built-in libraries to work with json files formats. We read the output of `wget` command into a python variable: `json_str`. We parse that string with the `json` library.  First we load the necessary pacakges:"
   ]
  },
  {
   "cell_type": "code",
   "execution_count": 2,
   "metadata": {},
   "outputs": [],
   "source": [
    "%matplotlib inline\n",
    "\n",
    "import pandas as pd\n",
    "import numpy as np\n",
    "import matplotlib.pyplot as plt\n",
    "import subprocess as sp\n",
    "import pickle # to serialize/unserialize python data objects\n"
   ]
  },
  {
   "cell_type": "markdown",
   "metadata": {},
   "source": [
    "The code below won't run on the int15 server.  If you have python installed on your local machine you can try scraping this data yourself!"
   ]
  },
  {
   "cell_type": "code",
   "execution_count": 3,
   "metadata": {},
   "outputs": [],
   "source": [
    "## get all 2018-19 teams\n",
    "if False:\n",
    "    params = {'LeagueID':'00','Season': '2018-19'}\n",
    "    teams = get_nba_data('commonTeamYears', params).set_index('TEAM_ID')\n",
    "    allteams = teams.loc[teams.MAX_YEAR=='2018'].index.values\n",
    "\n",
    "    pickle.dump(allteams, open( \"allteams2018.p\", \"wb\" ) )"
   ]
  },
  {
   "cell_type": "code",
   "execution_count": 4,
   "metadata": {},
   "outputs": [],
   "source": [
    "# get all 2018-2019 player ids\n",
    "if False:\n",
    "    ## get all 2018-19 player ids\n",
    "    params = {'LeagueID':'00', 'Season': '2018-19', 'IsOnlyCurrentSeason': '0'}\n",
    "    players = get_nba_data('commonallplayers', params).set_index('PERSON_ID')\n",
    "\n",
    "    # Player ids and names\n",
    "    allplyrs = players.loc[players.TEAM_ID.isin(allteams)]['DISPLAY_FIRST_LAST'].drop_duplicates()\n",
    "\n",
    "    ## save in a pickle file\n",
    "    pickle.dump(allplyrs, open( \"allplyrs2018.p\", \"wb\" ) )"
   ]
  },
  {
   "cell_type": "markdown",
   "metadata": {},
   "source": [
    "**Run the cell to get the files necessary files for this assignment.**"
   ]
  },
  {
   "cell_type": "code",
   "execution_count": 5,
   "metadata": {},
   "outputs": [],
   "source": [
    "!wget -nc https://ucsb.box.com/shared/static/0shc0fcjslffepdfh9dc4unpxdvoumj0.json -O curry.json\n",
    "!wget -nc https://ucsb.box.com/shared/static/qvslkv7l71g39jug1umc9hctkj87l96a.p -O allteams2018.p\n",
    "!wget -nc https://ucsb.box.com/shared/static/ondn2cqs7l1s1f5fn5u11uzc0wbz0hfi.p -O allplyrs2018.p\n",
    "!wget -nc https://ucsb.box.com/shared/static/8f2ify8ic0fzhntd5a5r2l1lessj41ky.p -O allshots2018.p"
   ]
  },
  {
   "cell_type": "markdown",
   "metadata": {},
   "source": [
    "### Question 1a\n",
    "\n",
    "Load the pickle titled `allplyrs2018.p` into a pandas dataframe called `allplyrs`:"
   ]
  },
  {
   "cell_type": "markdown",
   "metadata": {
    "deletable": false,
    "editable": false
   },
   "source": [
    "<!--\n",
    "BEGIN QUESTION\n",
    "name: q1a\n",
    "manual: false\n",
    "points: 2\n",
    "-->"
   ]
  },
  {
   "cell_type": "code",
   "execution_count": 6,
   "metadata": {},
   "outputs": [],
   "source": [
    "allplyrs = ..."
   ]
  },
  {
   "cell_type": "markdown",
   "metadata": {},
   "source": [
    "Below are the `params` we'll use for our `json` query.  For now we left `PlayerID` blank.  Most importantly we're querying data from 2018-19 season and looking at field goals: `'ContextMeasure':'FGA'`"
   ]
  },
  {
   "cell_type": "code",
   "execution_count": 7,
   "metadata": {},
   "outputs": [],
   "source": [
    "params = {'PlayerID':'', # We'll fill this in after identifying the right player\n",
    "          'PlayerPosition':'',\n",
    "          'Season':'2018-19',\n",
    "          'ContextMeasure':'FGA',\n",
    "          'DateFrom':'',\n",
    "          'DateTo':'',\n",
    "          'GameID':'',\n",
    "          'GameSegment':'',\n",
    "          'LastNGames':'0',\n",
    "          'LeagueID':'00',\n",
    "          'Location':'',\n",
    "          'Month':'0',\n",
    "          'OpponentTeamID':'0',\n",
    "          'Outcome':'',\n",
    "          'Period':'0',\n",
    "          'Position':'',\n",
    "          'RookieYear':'',\n",
    "          'SeasonSegment':'',\n",
    "          'SeasonType':'Regular Season',\n",
    "          'TeamID':'0',\n",
    "          'VsConference':'',\n",
    "          'VsDivision':''}\n",
    " "
   ]
  },
  {
   "cell_type": "markdown",
   "metadata": {},
   "source": [
    "## Question 1b: Get one player's shot data\n",
    "\n",
    "Use `allplyrs` to find the player id (index) associated with the player named \"[Stephen Curry](https://en.wikipedia.org/wiki/Stephen_Curry)\".  Set the value of `PlayerID` in the `params` dictionary to Stephen Curry's id.  "
   ]
  },
  {
   "cell_type": "markdown",
   "metadata": {
    "deletable": false,
    "editable": false
   },
   "source": [
    "<!--\n",
    "BEGIN QUESTION\n",
    "name: q1b\n",
    "manual: false\n",
    "points: 2\n",
    "-->"
   ]
  },
  {
   "cell_type": "code",
   "execution_count": 8,
   "metadata": {},
   "outputs": [],
   "source": [
    "curry_id = ..."
   ]
  },
  {
   "cell_type": "code",
   "execution_count": null,
   "metadata": {
    "deletable": false,
    "editable": false
   },
   "outputs": [],
   "source": [
    "ok.grade(\"q1b\");"
   ]
  },
  {
   "cell_type": "markdown",
   "metadata": {},
   "source": [
    "## Question 1c\n",
    "\n",
    "The NBA stats page is blocking our jupyter hub server, so `get_nba_data` won't work on `int15.lsit.uscb` (if you have python installed on your machine, try it out!).  Instead, call the `get_nba_data` but have it return the url rather than actually query the website for the `json`.  Print the url."
   ]
  },
  {
   "cell_type": "code",
   "execution_count": 11,
   "metadata": {},
   "outputs": [],
   "source": [
    "if False:\n",
    "    ## get shot data for Stephen Curry and pickle it\n",
    "    curry_data = get_nba_data('shotchartdetail', params, return_url=False)\n",
    "    pickle.dump(allplyrs, open( \"curry2018.p\", \"wb\" ) )\n",
    "if True: \n",
    "    curry_url = ...\n",
    "print(curry_url)"
   ]
  },
  {
   "cell_type": "markdown",
   "metadata": {},
   "source": [
    "Copy `curry_url` and paste it into a new tab in your browser.  This will show you the raw `json` that is being served to us on a successful query.  We've saved this data as `curry.json` and included it for you in the `hw2` directory.  The code below will load the json file into a dictionary called `curry_json`.  The relevant data is under the key `resultSets`.  `h` will be the headers for this data and `d` will be the values in the table.  Use `h` and `d` to create a pandas data frame named `curry_data`.  Print the first few rows of `curry_data` to inspect it."
   ]
  },
  {
   "cell_type": "code",
   "execution_count": 12,
   "metadata": {},
   "outputs": [],
   "source": [
    "import json\n",
    "with open('curry.json', 'r') as f:\n",
    "    curry_json = json.load(f)\n",
    "    \n",
    "curry_json.keys()\n",
    "\n",
    "h = curry_json['resultSets'][0]['headers']\n",
    "d = curry_json['resultSets'][0]['rowSet']\n",
    "\n",
    "curry_data = ..."
   ]
  },
  {
   "cell_type": "markdown",
   "metadata": {},
   "source": [
    "## 1d Investigating the data about the data\n",
    "\n",
    "A glossary of basketball terms can be found here: https://stats.nba.com/help/glossary/\n",
    "\n",
    "Here are some of the key ones:\n",
    "- Field goal: a basketball shot\n",
    "- FGA: Field Goals Attempted \n",
    "- FGM: Field Goals Made\n"
   ]
  },
  {
   "cell_type": "markdown",
   "metadata": {},
   "source": [
    "Group the data by `SHOT_ZONE_RANGE` and call the `size()` function on the resulting `groupby` data frame to get the number of shot attempts in different areas of the court.  Save this in `shot_zone_range_df`.  How many shots were taken within 8 feet of the basket? How many shots were taken further than 24 feet from the basket?  Save these in the appropriate variable below."
   ]
  },
  {
   "cell_type": "markdown",
   "metadata": {
    "deletable": false,
    "editable": false
   },
   "source": [
    "<!--\n",
    "BEGIN QUESTION\n",
    "name: q1d\n",
    "manual: false\n",
    "points: 2\n",
    "-->"
   ]
  },
  {
   "cell_type": "code",
   "execution_count": 13,
   "metadata": {},
   "outputs": [],
   "source": [
    "shot_zone_range_df = ...\n",
    "shots_inside8 = ...\n",
    "shots_24plus = ..."
   ]
  },
  {
   "cell_type": "code",
   "execution_count": null,
   "metadata": {
    "deletable": false,
    "editable": false
   },
   "outputs": [],
   "source": [
    "ok.grade(\"q1d\");"
   ]
  },
  {
   "cell_type": "markdown",
   "metadata": {},
   "source": [
    "## 1e Investigating the data about the data\n",
    "\n",
    "\n",
    "Lets try a different grouping now.  Group the data by `SHOT_ZONE_AREA` and and use `size()` to get the group counts.  Save this in `shot_zone_area_df` and print it.  How many shots were taken from the left center side or the right center side?"
   ]
  },
  {
   "cell_type": "markdown",
   "metadata": {
    "deletable": false,
    "editable": false
   },
   "source": [
    "<!--\n",
    "BEGIN QUESTION\n",
    "name: q1e\n",
    "manual: false\n",
    "points: 2\n",
    "-->"
   ]
  },
  {
   "cell_type": "code",
   "execution_count": 17,
   "metadata": {},
   "outputs": [],
   "source": [
    "shot_zone_area_df = ..."
   ]
  },
  {
   "cell_type": "markdown",
   "metadata": {},
   "source": [
    "*Write your answer here, replacing this text.*"
   ]
  },
  {
   "cell_type": "markdown",
   "metadata": {},
   "source": [
    "### Question 1f \n",
    "\n",
    "Use pivot table to generate a table with entries representing the fraction of attempted shots that were made (i.e. compute the field goal percentage) by both range and area for each period of the game. Set the rows (`index`) to correspond to the `PERIOD` and the columns corresponding to `SHOT_ZONE_RANGE` and `SHOT_ZONE AREA`.  Fill any missing entries in the pivot table by setting an [appropriate argument](https://pandas.pydata.org/pandas-docs/stable/reference/api/pandas.pivot_table.html).\n"
   ]
  },
  {
   "cell_type": "markdown",
   "metadata": {
    "deletable": false,
    "editable": false
   },
   "source": [
    "<!--\n",
    "BEGIN QUESTION\n",
    "name: q1f\n",
    "manual: false\n",
    "points: 2\n",
    "-->"
   ]
  },
  {
   "cell_type": "code",
   "execution_count": 18,
   "metadata": {},
   "outputs": [],
   "source": [
    "FGpercent_table = ...\n"
   ]
  },
  {
   "cell_type": "code",
   "execution_count": null,
   "metadata": {
    "deletable": false,
    "editable": false
   },
   "outputs": [],
   "source": [
    "ok.grade(\"q1f\");"
   ]
  },
  {
   "cell_type": "markdown",
   "metadata": {},
   "source": [
    "### Question 1e\n",
    "\n",
    "You are interested in identifying whether Stephen Curry has different behavior in different periods of the game.  In a few sentences, discuss how might you identify whether Curry's shot selection is different early in the game (e.g. periods 1 and 2) than later in the game (e.g. periods 3 and 4)?  This is an open ended question and the answer can include looking at visualizations, statistical tests etc."
   ]
  },
  {
   "cell_type": "markdown",
   "metadata": {},
   "source": [
    "*Write your answer here, replacing this text.*"
   ]
  },
  {
   "cell_type": "markdown",
   "metadata": {
    "collapsed": true
   },
   "source": [
    "## Part 2: Visualization\n",
    "\n",
    "### Q2a\n",
    "Use `seaborn` to create scatter plot of the location of Stephen Curry's shot attempts from this year (`LOC_X` and `LOC_Y`).  When you call a scatterplot, seaborn returns a figure in an object, we'll call it `ax`.  We can set properties of the figure by calling methods on `ax`.  Use this approach to set the x-axis limits to span (-300, 300), the y-axis limits to span (-100, -500)."
   ]
  },
  {
   "cell_type": "markdown",
   "metadata": {
    "deletable": false,
    "editable": false
   },
   "source": [
    "<!--\n",
    "BEGIN QUESTION\n",
    "name: q2a\n",
    "manual: false\n",
    "points: 2\n",
    "-->"
   ]
  },
  {
   "cell_type": "code",
   "execution_count": 20,
   "metadata": {},
   "outputs": [],
   "source": [
    "import seaborn as sns\n",
    "\n",
    "plt.figure(figsize=[12, 11])\n",
    "ax = ...\n",
    "\n",
    "...\n"
   ]
  },
  {
   "cell_type": "code",
   "execution_count": null,
   "metadata": {
    "deletable": false,
    "editable": false
   },
   "outputs": [],
   "source": [
    "ok.grade(\"q2a\");"
   ]
  },
  {
   "cell_type": "markdown",
   "metadata": {},
   "source": [
    "\n",
    "Understanding any dataset is hard without context.  Lets add some important context by adding the relevant court lines into our diagram.  If you are interested, you can read more about the lines and dimensions on the [NBA basketball court](https://en.wikipedia.org/wiki/Basketball_court).  We will use code from [http://savvastjortjoglou.com/nba-shot-sharts.html](http://savvastjortjoglou.com/nba-shot-sharts.html) to add the court markings to our diagram.  The `draw_court` function below will do this for us.  The below cell will generate an example court.\n"
   ]
  },
  {
   "cell_type": "code",
   "execution_count": 23,
   "metadata": {},
   "outputs": [],
   "source": [
    "## code is from http://savvastjortjoglou.com/nba-shot-sharts.html\n",
    "def draw_court(ax=None, color='black', lw=1, outer_lines=False):\n",
    "    \n",
    "    from matplotlib.patches import Circle, Rectangle, Arc\n",
    "    from matplotlib.pyplot import gca\n",
    "    \n",
    "    # If an axes object isn't provided to plot onto, just get current one\n",
    "    if ax is None:\n",
    "        ax = gca()\n",
    "\n",
    "    # Create the various parts of an NBA basketball court\n",
    "\n",
    "    # Create the basketball hoop\n",
    "    # Diameter of a hoop is 18\" so it has a radius of 9\", which is a value\n",
    "    # 7.5 in our coordinate system\n",
    "    hoop = Circle((0, 0), radius=7.5, linewidth=lw, color=color, fill=False)\n",
    "\n",
    "    # Create backboard\n",
    "    backboard = Rectangle((-30, -7.5), 60, 0, linewidth=lw, color=color)\n",
    "\n",
    "    # The paint\n",
    "    # Create the outer box 0f the paint, width=16ft, height=19ft\n",
    "    outer_box = Rectangle((-80, -47.5), 160, 190, linewidth=lw, color=color,\n",
    "                          fill=False)\n",
    "    # Create the inner box of the paint, widt=12ft, height=19ft\n",
    "    inner_box = Rectangle((-60, -47.5), 120, 190, linewidth=lw, color=color,\n",
    "                          fill=False)\n",
    "\n",
    "    # Create free throw top arc\n",
    "    top_free_throw = Arc((0, 142.5), 120, 120, theta1=0, theta2=180,\n",
    "                         linewidth=lw, color=color, fill=False)\n",
    "    # Create free throw bottom arc\n",
    "    bottom_free_throw = Arc((0, 142.5), 120, 120, theta1=180, theta2=0,\n",
    "                            linewidth=lw, color=color, linestyle='dashed')\n",
    "    # Restricted Zone, it is an arc with 4ft radius from center of the hoop\n",
    "    restricted = Arc((0, 0), 80, 80, theta1=0, theta2=180, linewidth=lw,\n",
    "                     color=color)\n",
    "\n",
    "    # Three point line\n",
    "    # Create the side 3pt lines, they are 14ft long before they begin to arc\n",
    "    corner_three_a = Rectangle((-219, -47.5), 0, 140, linewidth=lw,\n",
    "                               color=color)\n",
    "    corner_three_b = Rectangle((219, -47.5), 0, 140, linewidth=lw, color=color)\n",
    "    # 3pt arc - center of arc will be the hoop, arc is 23'9\" away from hoop\n",
    "    # I just played around with the theta values until they lined up with the \n",
    "    # threes\n",
    "    three_arc = Arc((0, 0), 475, 475, theta1=22.5, theta2=157.5, linewidth=lw,\n",
    "                    color=color)\n",
    "\n",
    "    # Center Court\n",
    "    center_outer_arc = Arc((0, 422.5), 120, 120, theta1=180, theta2=0,\n",
    "                           linewidth=lw, color=color)\n",
    "    center_inner_arc = Arc((0, 422.5), 40, 40, theta1=180, theta2=0,\n",
    "                           linewidth=lw, color=color)\n",
    "\n",
    "    # List of the court elements to be plotted onto the axes\n",
    "    court_elements = [hoop, backboard, outer_box, inner_box, top_free_throw,\n",
    "                      bottom_free_throw, restricted, corner_three_a,\n",
    "                      corner_three_b, three_arc, center_outer_arc,\n",
    "                      center_inner_arc]\n",
    "\n",
    "    if outer_lines:\n",
    "        # Draw the half court line, baseline and side out bound lines\n",
    "        outer_lines = Rectangle((-250, -47.5), 500, 470, linewidth=lw,\n",
    "                                color=color, fill=False)\n",
    "        court_elements.append(outer_lines)\n",
    "\n",
    "    # Add the court elements onto the axes\n",
    "    for element in court_elements:\n",
    "        ax.add_patch(element)\n",
    "\n",
    "    return ax\n",
    "\n",
    "plt.figure(figsize=(12,11))\n",
    "draw_court(outer_lines=True)\n",
    "plt.xlim(-300,300)\n",
    "plt.ylim(-100,500)\n",
    "plt.show()"
   ]
  },
  {
   "cell_type": "markdown",
   "metadata": {},
   "source": [
    "### Q2b\n",
    "\n",
    "Again use seaborn to make a scatter plot of Stephen Curry's shots. Again, set the x-axis limits to span (-300, 300), the y-axis limits to span (-100, -500) color the points by whether the shot was made or missed.  Set the missed shots to have an 'x' symbol and made shots to be a circular symbol. Call the `draw_court` function with `outer_lines` set to to be true. Save the `Axes` returned by the plot call in a variable called `ax`."
   ]
  },
  {
   "cell_type": "markdown",
   "metadata": {
    "deletable": false,
    "editable": false
   },
   "source": [
    "<!--\n",
    "BEGIN QUESTION\n",
    "name: q2b\n",
    "manual: false\n",
    "points: 2\n",
    "-->"
   ]
  },
  {
   "cell_type": "code",
   "execution_count": 24,
   "metadata": {},
   "outputs": [],
   "source": [
    "plt.figure(figsize=(12, 11))\n",
    "#cmap = sns.cubehelix_palette(dark=0, light=1, as_cmap=True)\n",
    "markers = {0 : \"X\", 1 : \"o\"}\n",
    "ax = ...\n",
    "\n",
    "...\n",
    "\n"
   ]
  },
  {
   "cell_type": "code",
   "execution_count": null,
   "metadata": {
    "deletable": false,
    "editable": false
   },
   "outputs": [],
   "source": [
    "ok.grade(\"q2b\");"
   ]
  },
  {
   "cell_type": "markdown",
   "metadata": {},
   "source": [
    "### Q2c\n",
    "In a few sentences, discuss what makes this an effective or ineffective visualization for understanding the types of shots that Stephen Curry likes to take and is good at taking, relative to other players in the league.  Are there ways it can be improved?"
   ]
  },
  {
   "cell_type": "markdown",
   "metadata": {},
   "source": [
    "*Write your answer here, replacing this text.*"
   ]
  },
  {
   "cell_type": "markdown",
   "metadata": {},
   "source": [
    "### Question 2d: A Hexbin plot\n",
    "\n",
    "Visualize Stephen Curry's shots by using a [hexbin plot with marginal histograms](https://seaborn.pydata.org/examples/hexbin_marginals.html). Also refer to setting [figure aesthetics](https://seaborn.pydata.org/tutorial/aesthetics.html) for what commands below do."
   ]
  },
  {
   "cell_type": "code",
   "execution_count": 27,
   "metadata": {},
   "outputs": [],
   "source": [
    "sns.set_style(\"white\")\n",
    "joint_shot_chart = sns.jointplot(x=\"LOC_X\", y=\"LOC_Y\", data=curry_data, kind='hex', space=0)\n",
    "joint_shot_chart.fig.set_size_inches(12,11)\n",
    "\n",
    "# A joint plot has 3 Axes, the first one called ax_joint \n",
    "# is the one we want to draw our court onto and adjust some other settings\n",
    "ax = joint_shot_chart.ax_joint\n",
    "draw_court(ax, outer_lines=True)\n",
    "\n",
    "# Adjust the axis limits and orientation of the plot in order\n",
    "# to plot half court, with the hoop by the top of the plot\n",
    "ax.set_xlim(-300, 300)\n",
    "ax.set_ylim(500, -100)\n",
    "\n",
    "# Get rid of axis labels and tick marks\n",
    "ax.set_xlabel('')\n",
    "ax.set_ylabel('')\n",
    "ax.tick_params(labelbottom=False, labelleft=False)\n",
    "\n",
    "# Add a title\n",
    "ax.set_title('Stephen Curry, 2018-19, FGA', \n",
    "             y=1.2, fontsize=18)\n",
    "\n",
    "# Add Data Scource and Author\n",
    "ax.text(-250,445,'\\n This plot is based on code by Savvas Tjortjoglou (savvastjortjoglou.com)',\n",
    "        fontsize=12);"
   ]
  },
  {
   "cell_type": "markdown",
   "metadata": {},
   "source": [
    "## Question 3: Analyzing Shots from All Players\n",
    "\n",
    "\n",
    "As a reminder, we've already gathered a list of all player names and ids in the `allplyrs` object.  The code below in the `if False` look will not run on `int15.lsit.ucsb.edu`, but if you run it locally, it will loops over all player ids and grabs the `shotchartdetail` from [stats.nba.com](https://stats.nba.com). We've done this step and stored the pandas data frame of all shot data in `allshots2018.p`. Load this pickle file into a DataFrame titled `allshots`.\n"
   ]
  },
  {
   "cell_type": "code",
   "execution_count": 28,
   "metadata": {},
   "outputs": [],
   "source": [
    "if False:\n",
    "    params = {'PlayerID':'',\n",
    "              'PlayerPosition':'',\n",
    "              'Season':'2018-19',\n",
    "              'ContextMeasure':'FGA',\n",
    "              'DateFrom':'',\n",
    "              'DateTo':'',\n",
    "              'GameID':'',\n",
    "              'GameSegment':'',\n",
    "              'LastNGames':'0',\n",
    "              'LeagueID':'00',\n",
    "              'Location':'',\n",
    "              'Month':'0',\n",
    "              'OpponentTeamID':'0',\n",
    "              'Outcome':'',\n",
    "              'Period':'0',\n",
    "              'Position':'',\n",
    "              'RookieYear':'',\n",
    "              'SeasonSegment':'',\n",
    "              'SeasonType':'Regular Season',\n",
    "              'TeamID':'0',\n",
    "              'VsConference':'',\n",
    "              'VsDivision':''}\n",
    "\n",
    "    shotdf = []\n",
    "    for p in allplyrs.index.values:\n",
    "        print(p)\n",
    "\n",
    "        # get player p's data\n",
    "        params['PlayerID'] = p\n",
    "        \n",
    "        # scrape the json data\n",
    "        playerdata = get_nba_data('shotchartdetail', params)\n",
    "        \n",
    "        # add playerID to the dictionary\n",
    "        playerdata['PlayerID'] = p\n",
    "        \n",
    "        # add to the list of player data frames\n",
    "        shotdf += [playerdata]\n",
    "    \n",
    "    # This concats a list of data frame's into one big data frame\n",
    "    allshots = pd.concat(shotdf)\n",
    "\n",
    "    # Save the json\n",
    "    pickle.dump(allshots, open('allshots2018.p', 'wb'))\n",
    "    \n",
    "if True:\n",
    "    \n",
    "    allshots = ..."
   ]
  },
  {
   "cell_type": "markdown",
   "metadata": {},
   "source": [
    "### Q3a\n",
    "\n",
    "From all shots taken in 2018-2019, create a DataFrame `shot_counts` of shots taken in each zone range and area combination. Then, calculate the fraction of shots taken from range `24+ ft.` in the `Center(C)` shot area."
   ]
  },
  {
   "cell_type": "markdown",
   "metadata": {
    "deletable": false,
    "editable": false
   },
   "source": [
    "<!--\n",
    "BEGIN QUESTION\n",
    "name: q3a\n",
    "manual: false\n",
    "points: 2\n",
    "-->"
   ]
  },
  {
   "cell_type": "code",
   "execution_count": 29,
   "metadata": {},
   "outputs": [],
   "source": [
    "shot_counts = ...\n",
    "...\n",
    "\n",
    "frac_center24 = ..."
   ]
  },
  {
   "cell_type": "code",
   "execution_count": null,
   "metadata": {
    "deletable": false,
    "editable": false
   },
   "outputs": [],
   "source": [
    "ok.grade(\"q3a\");"
   ]
  },
  {
   "cell_type": "markdown",
   "metadata": {},
   "source": [
    "### Question 3b\n",
    "\n",
    "Make a histogram of the number of total shots taken across all players **with 15 bins**.  Label the x-axis appropriately, set the color of the bars to green."
   ]
  },
  {
   "cell_type": "markdown",
   "metadata": {
    "deletable": false,
    "editable": false
   },
   "source": [
    "<!--\n",
    "BEGIN QUESTION\n",
    "name: q3b\n",
    "manual: false\n",
    "points: 2\n",
    "-->"
   ]
  },
  {
   "cell_type": "code",
   "execution_count": 31,
   "metadata": {},
   "outputs": [],
   "source": [
    "plt.figure(figsize=(8, 7))\n",
    "ax = ...\n",
    "...\n"
   ]
  },
  {
   "cell_type": "markdown",
   "metadata": {},
   "source": [
    "## Q3c\n",
    "\n",
    "What do you observe about the distribution of shot attempts in the NBA across all players? Why might this be? Discuss in 1-3 sentences below."
   ]
  },
  {
   "cell_type": "markdown",
   "metadata": {},
   "source": [
    "*Write your answer here, replacing this text.*"
   ]
  },
  {
   "cell_type": "markdown",
   "metadata": {},
   "source": [
    "## Question 4: Binning and Smoothing Shots\n",
    "\n",
    "So far, in we have worked with dataframes which represent each shot as a single observation (row) within the dataset.  However, this isn't a convenient data structure for the kinds of spatial analyses we will puruse below.  In this part, we will divide the court into square regions and create a matrix which includes the number of shots taken by a player in that region.  We divide the court up into square bins (e.g. a 2d histogram), and, for each player, count number of shots that fall into each bin. Fortunately, this function is relatively simple to write using existing `numpy` functions. \n",
    "\n",
    "### Q4a\n",
    "\n",
    "\n",
    "Fill in the `bin_shots` function below. Use `np.histgram2d` to count count the shots in each bin.  The bins are defined `bin_edges` which is a pandas Series of the form `(xedges, yedges)`.  If `density = True`, call `ndimage.filters.gaussian_filter` on the result of `np.histogram2d` with smoothing parameter `sigma`.  This will create a smoothed version of the raw data histograms."
   ]
  },
  {
   "cell_type": "markdown",
   "metadata": {
    "deletable": false,
    "editable": false
   },
   "source": [
    "<!--\n",
    "BEGIN QUESTION\n",
    "name: q4a\n",
    "manual: false\n",
    "points: 2\n",
    "-->"
   ]
  },
  {
   "cell_type": "code",
   "execution_count": 32,
   "metadata": {},
   "outputs": [],
   "source": [
    "def bin_shots(df, bin_edges, density=False, sigma=1):\n",
    "    \n",
    "    \"\"\"Given data frame of shots, compute a 2d matrix of binned counts is computed\n",
    "    \n",
    "    Args:\n",
    "        df: data frame of shotchartdetail from nba.com. \n",
    "            At the minimum, variables named LOCX and LOCY are required.\n",
    "        bin_edges: bin edge definition: edges in x and edges in y\n",
    "    \n",
    "    Returns:\n",
    "        binned: counts\n",
    "        xedges: bin edges in X direction\n",
    "        yedges: bin edges in Y direction\n",
    "    \"\"\"\n",
    "    import numpy as np\n",
    "    from scipy import ndimage\n",
    "    \n",
    "    ## Call np.histogram2d\n",
    "    ...\n",
    "    \n",
    "    if density:\n",
    "\n",
    "        # Recompute 'binned' using \"gaussian_filter\"\n",
    "        binned = ...\n",
    "        \n",
    "        # Normalize the histogram to be a \"density\", e.g. mass across all bins sums to 1.\n",
    "        binned /= np.sum(binned)\n",
    "    \n",
    "    return(binned, xedges, yedges)\n"
   ]
  },
  {
   "cell_type": "code",
   "execution_count": null,
   "metadata": {
    "deletable": false,
    "editable": false
   },
   "outputs": [],
   "source": [
    "ok.grade(\"q4a\");"
   ]
  },
  {
   "cell_type": "markdown",
   "metadata": {},
   "source": [
    "### Q4b: Visualize the binning on `curry_data`\n",
    "\n",
    "Call `bin_shots` on `curry_data` to create a binned but unsmoothed matrix of shot counts (call this `curry_binned_unsmoothed`), a binned and smoothed matrix of counts with `sigma=1` (call this `curry_binned_smoothed1`) and one with `sigma=5` (call this `curry_binned_smoothed5`). Use the bin edges defined below:"
   ]
  },
  {
   "cell_type": "code",
   "execution_count": 37,
   "metadata": {},
   "outputs": [],
   "source": [
    "## bin edge definitions in inches\n",
    "xedges = np.linspace(start=-300, stop=300, num=151)\n",
    "yedges = np.linspace(start=-48, stop=372, num=106)"
   ]
  },
  {
   "cell_type": "code",
   "execution_count": 38,
   "metadata": {},
   "outputs": [],
   "source": [
    "bin_edges = (xedges, yedges)\n",
    "...\n",
    "...\n",
    "..."
   ]
  },
  {
   "cell_type": "markdown",
   "metadata": {},
   "source": [
    "The function below can be used to visualize the shots as a heatmap:"
   ]
  },
  {
   "cell_type": "code",
   "execution_count": 39,
   "metadata": {},
   "outputs": [],
   "source": [
    "def plot_shotchart(binned_counts, xedges, yedges, ax=None, use_log=False, cmap = 'Reds'):\n",
    "    \n",
    "    \"\"\"Plots 2d heatmap from vectorized heatmap counts\n",
    "    \n",
    "    Args:\n",
    "        hist_counts: vectorized output of numpy.histogram2d\n",
    "        xedges, yedges: bin edges in arrays\n",
    "        ax: figure axes [None]\n",
    "        use_log: will convert count x to log(x+1) to increase visibility [False]\n",
    "        cmap: Set the color map https://matplotlib.org/examples/color/colormaps_reference.html\n",
    "    Returns:\n",
    "        ax: axes with plot\n",
    "    \"\"\"\n",
    "    \n",
    "    import numpy as np\n",
    "    import matplotlib.pyplot as plt\n",
    "    \n",
    "    ## number of x and y bins.  \n",
    "    nx = xedges.size - 1\n",
    "    ny = yedges.size - 1\n",
    "\n",
    "    X, Y = np.meshgrid(xedges, yedges)\n",
    "    \n",
    "    if use_log:\n",
    "        counts = np.log(binned_counts + 1)\n",
    "        \n",
    "    if ax is None:\n",
    "        fig, ax = plt.subplots(1,1)\n",
    "    \n",
    "    ax.pcolormesh(X, Y, binned_counts.T, cmap=cmap) \n",
    "    ax.set_aspect('equal')\n",
    "    \n",
    "    draw_court(ax)\n",
    "    \n",
    "    return(ax)\n",
    "\n"
   ]
  },
  {
   "cell_type": "markdown",
   "metadata": {},
   "source": [
    "Create 3 side by side plots of `curry_binned_unsmoothed`, `curry_binned_smoothed1` and `curry_binned_smoothed5`"
   ]
  },
  {
   "cell_type": "markdown",
   "metadata": {
    "deletable": false,
    "editable": false
   },
   "source": [
    "<!--\n",
    "BEGIN QUESTION\n",
    "name: q4b\n",
    "manual: false\n",
    "points: 2\n",
    "-->"
   ]
  },
  {
   "cell_type": "code",
   "execution_count": 40,
   "metadata": {},
   "outputs": [],
   "source": [
    "fig, ax = plt.subplots(1, 3, figsize=(20,60))\n",
    "\n",
    "..."
   ]
  },
  {
   "cell_type": "markdown",
   "metadata": {},
   "source": [
    "### 4c Vectorizing Shot Images"
   ]
  },
  {
   "cell_type": "markdown",
   "metadata": {},
   "source": [
    "- Here we proceed create a dictionary of smoothed patterns, each vectorized into a 1-d array. \n",
    "- In this case, the object `all_smooth` is a dictionary that consists of arrays of length `15750`. \n",
    "- Each entry in `all_smooth` represents the smoothed frequency of shots along the bins generated in the code above for a given player."
   ]
  },
  {
   "cell_type": "code",
   "execution_count": 41,
   "metadata": {},
   "outputs": [],
   "source": [
    "## number of bins is one less than number of edges (remember homework 1)\n",
    "nx = xedges.size - 1\n",
    "ny = yedges.size - 1\n",
    "\n",
    "## 2d histogram containers for binned counts and smoothed binned counts\n",
    "all_counts = []\n",
    "all_smooth = []\n",
    "pids = []\n",
    "\n",
    "## 2d histogram containers for binned counts and smoothed binned counts\n",
    "\n",
    "## data matrix: players (row) by vectorized 2-d court locations (column)\n",
    "for i, one in enumerate(allshots.groupby('PlayerID')):\n",
    "    \n",
    "    ## what does this line do?\n",
    "    pid, pdf = one\n",
    "        \n",
    "    num_shots = len(pdf.index)\n",
    "    if(num_shots > 100): \n",
    "        \n",
    "        tmp1, xedges, yedges = bin_shots(pdf, bin_edges=(xedges, yedges), density=True, sigma=2)\n",
    "        tmp2, xedges, yedges = bin_shots(pdf, bin_edges=(xedges, yedges), density=False)\n",
    "    \n",
    "        ## vectorize and store into list\n",
    "        all_smooth += [tmp1.reshape(-1)]\n",
    "        all_counts += [tmp2.reshape(-1)]\n",
    "        pids += [pid]"
   ]
  },
  {
   "cell_type": "code",
   "execution_count": 42,
   "metadata": {},
   "outputs": [],
   "source": [
    "X = np.vstack(all_smooth)\n",
    "n, p = X.shape\n",
    "\n",
    "print('Number of shot regions (p):', p)\n",
    "print('Number of players (n):', n)"
   ]
  },
  {
   "cell_type": "markdown",
   "metadata": {},
   "source": [
    "## Question 5: Non-negative Matrix Factorization (NMF) \n",
    "\n",
    "The non-negative matrix factorization is a dimension reduction technique that is often applied to image data.  It is similar to PCA except that is only applicable for strictly positive data.  We can apply the NMF to vectorized versions of the shot surface. This is useful because we can conver the observed matrix of shot surfaces into:\n",
    "* Bases: Identifying modes of shooting style (number of modes is determined by `n_components` argument to `NMF` function below)\n",
    "* Coefficients: How each players shooting style could be expressed as a (positive) linear combination of these bases\n",
    "\n",
    "The NMF solves the following problem: given some matrix $X$ is $n \\times p$ matrix ($n$ players, $p$ court regions), NMF computes the following factorization:\n",
    "$$ \\min_{W, H} \\| X - HW^T \\|_F\\\\\n",
    "\\text{ subject to } W\\geq 0,\\ H\\geq 0, $$\n",
    "where $W$ is ${p \\times r}$ matrix and $H$ is ${n\\times r}$ matrix.\n",
    "\n",
    "In this homework, we have the following:\n",
    " \n",
    "#### The data matrix $X$ \n",
    "$X$ is of dimension $n$={number of players} and $p$={number of total square bins on the court}. Each row corresponds to a player, with observations corresponding to a \"flattened\" or \"vectorized\" version of the 2d histograms plotted in part 4b.  In other words, the rows of $X$ contain the counts of shots in each rectangular region of the court, for a player.\n",
    "\n",
    "#### Bases matrix: $W$\n",
    "\n",
    "Columns, $W_i$, contain the shot \"bases\". First, we will try it with $r=3$ bins in 5a, and then with $r=10$ bins in 5d.\n",
    "\n",
    "#### Coefficient matrix: H\n",
    "\n",
    "Each row of $H$ gives a coefficient (or \"weight\") for each of the bases vectors in $W$, and there are $n$ rows, one for each player.\n",
    "\n",
    "\n",
    "The `sklearn` library is one of the main Python machine learning libraries.  It has a built in NMF function for us.  The function below runs this function and normalizes the basis surfaces to sum to 1."
   ]
  },
  {
   "cell_type": "code",
   "execution_count": 43,
   "metadata": {},
   "outputs": [],
   "source": [
    "## Non-negative Matrix Factorization\n",
    "def non_negative_marix_decomp(n_components, array_data):\n",
    "    import sklearn.decomposition as skld\n",
    "    \n",
    "    ## define the NMF model we will use\n",
    "    model = skld.NMF(n_components=n_components, init='nndsvda', max_iter=500, random_state=0)\n",
    "    \n",
    "    ## fit the transform to get W\n",
    "    W = model.fit_transform(array_data.T)\n",
    "    \n",
    "    # Normalize basis vectors to sum to 1\n",
    "    Wsum = W.sum(axis=0)\n",
    "    W = (W/Wsum)\n",
    "    \n",
    "    ## adjust H correspondingly\n",
    "    H = model.components_\n",
    "    H = (H.T * Wsum)\n",
    "\n",
    "    nmf = (W, H)\n",
    "    return(nmf)"
   ]
  },
  {
   "cell_type": "markdown",
   "metadata": {},
   "source": [
    "### Q5a\n",
    "\n",
    "Compute the NMF on all player's shot charts, X, assuming with `n_components` = 3 (i.e. each shot chart can be represented as a positive linear combination of 3 \"basis\" shot charts).  Fill in `plot_vectorized_shot_chart`.  This takes a the a vector of binned shot counts, converts it back to a matrix of the appropriate size and then calls `plot_shotchart` on the matrix.  The numpy function `reshape` will be useful here: [https://docs.scipy.org/doc/numpy/reference/generated/numpy.reshape.html](https://docs.scipy.org/doc/numpy/reference/generated/numpy.reshape.html)"
   ]
  },
  {
   "cell_type": "code",
   "execution_count": 44,
   "metadata": {},
   "outputs": [],
   "source": [
    "..."
   ]
  },
  {
   "cell_type": "code",
   "execution_count": 45,
   "metadata": {},
   "outputs": [],
   "source": [
    "print(X.shape)\n",
    "print(W3.shape)\n",
    "print(H3.shape)"
   ]
  },
  {
   "cell_type": "code",
   "execution_count": 46,
   "metadata": {},
   "outputs": [],
   "source": [
    "def plot_vectorized_shotchart(vec_counts, xedges, yedges, ax=None, use_log=False, cmap = 'Reds'):\n",
    "    \n",
    "    \"\"\"Plots 2d heatmap from vectorized heatmap counts\n",
    "    \n",
    "    Args:\n",
    "        hist_counts: vectorized output of numpy.histogram2d\n",
    "        xedges, yedges: bin edges in arrays\n",
    "        ax: figure axes [None]\n",
    "        use_log: will convert count x to log(x+1) to increase visibility [False]\n",
    "        cmap: Set the color map https://matplotlib.org/examples/color/colormaps_reference.html\n",
    "    Returns:\n",
    "        ax: axes with plot\n",
    "    \"\"\"\n",
    "\n",
    "    nx = ...\n",
    "    ny = ...\n",
    "    \n",
    "    # use reshape to convert a vectorized counts back into a 2d histogram\n",
    "    two_d_counts = ...\n",
    "    \n",
    "    return(plot_shotchart(two_d_counts, xedges, yedges, ax=ax, use_log=use_log, cmap=cmap))\n",
    "\n"
   ]
  },
  {
   "cell_type": "markdown",
   "metadata": {},
   "source": [
    "### Q5b\n",
    "\n",
    "Plot the first three basis images by calling `plot_vectorized_shot_chart` on the columns of W3."
   ]
  },
  {
   "cell_type": "code",
   "execution_count": 47,
   "metadata": {},
   "outputs": [],
   "source": [
    "\n",
    "fig, ax = plt.subplots(1, 3, figsize=(20,60))\n",
    "\n",
    "## Write a for loop\n",
    "for i in range(3):\n",
    "    # Call plot_vectorized_shot_chart\n",
    "    ax[i].set_title('Shot Basis %i' % (i+1))"
   ]
  },
  {
   "cell_type": "markdown",
   "metadata": {},
   "source": [
    "### Q5b\n",
    "Below we re-construct the shooting pattern for a single player. By \"reconstructing\" we mean use the approximation $$\\hat{X} = HW^T$$ obtained via NMF.  Find $\\hat X$ by multipling H and $W^T$.  In python the `@` symbol is used for matrix multiplication."
   ]
  },
  {
   "cell_type": "code",
   "execution_count": 48,
   "metadata": {},
   "outputs": [],
   "source": [
    "X3_hat = ..."
   ]
  },
  {
   "cell_type": "markdown",
   "metadata": {},
   "source": [
    "\n",
    "Plot $X$, $\\hat X$ and the residual ($X - \\hat X$) for the player named LaMarcus Aldridge. Remember, each *row* of $X$ is a vectorized matrix corresponding to the binned (or smoothed binned) shot information."
   ]
  },
  {
   "cell_type": "code",
   "execution_count": 49,
   "metadata": {},
   "outputs": [],
   "source": [
    "# Find the player_id of LaMarcus Aldridge\n",
    "player_id = ...\n",
    "\n",
    "## find index in X corresponding to that player\n",
    "to_plot_idx = np.where(pids == player_id)[0][0]\n",
    "\n",
    "fig, ax = plt.subplots(1, 3, figsize=(20,60))\n",
    "\n",
    "## Call plot_vectorized_shot_chart\n",
    "original_shotchart = ...\n",
    "reconstructed_shotchart = ...\n",
    "residual_chart = ...\n",
    "\n",
    "print(max(abs(X3_hat[:, to_plot_idx] - X[:, to_plot_idx])))\n",
    "ax[0].set_title('Original Shooting Pattern')\n",
    "ax[1].set_title('Reconstructed Shooting pattern (r=3)')\n",
    "ax[2].set_title('Residual Shooting Pattern (r=3)')"
   ]
  },
  {
   "cell_type": "markdown",
   "metadata": {},
   "source": [
    "### Q5c\n",
    "\n",
    "Why does it make sense to use a _sequential_ palette for the original and reconstructed shot charts and a _diverging_ palette for the residual?  _Hint:_ Read the introduction to colormaps [here](https://matplotlib.org/users/colormaps.html). "
   ]
  },
  {
   "cell_type": "markdown",
   "metadata": {},
   "source": [
    "*Write your answer here, replacing this text.*"
   ]
  },
  {
   "cell_type": "markdown",
   "metadata": {},
   "source": [
    "What areas of the court does this player to shoot more and where less relative to the reconstructed area.  If its helpful, you can refer to court locations by name using this legend [here](https://en.wikipedia.org/wiki/Basketball_court#/media/File:Basketball_terms.png])."
   ]
  },
  {
   "cell_type": "markdown",
   "metadata": {},
   "source": [
    "*Write your answer here, replacing this text.*"
   ]
  },
  {
   "cell_type": "markdown",
   "metadata": {},
   "source": [
    "#### Q5d\n",
    "\n",
    "Re-run the analysis, this time for 10 basis vectors instead of 3.  Again plot the bases using `plot_vectorized_shotchart` on the columns of `W10`."
   ]
  },
  {
   "cell_type": "code",
   "execution_count": 50,
   "metadata": {},
   "outputs": [],
   "source": [
    "...\n",
    "\n",
    "fig, ax = plt.subplots(2, 5, figsize=(20, 7))\n",
    "\n",
    "## Write a for loop\n",
    "for i in range(10):\n",
    "    ax[i//5, i % 5].set_title('Shot Basis %i' % (i+1))\n"
   ]
  },
  {
   "cell_type": "markdown",
   "metadata": {},
   "source": [
    "If you did things correctly, you should be really impressed! We've identified potentially interesting patterns of shooting styles without actually specifying anything about the way basketball is played or where the relevant lines are on the court.  The resulting images are based only on the actual behavior of the players.  Even more impressive is that we're capturing similarity in regions that are far apart on the court.  One reason we can do this is that a basketball court is symmetric along the length of the court (i.e. symmetric about x=0).  However, people tend to be left or right hand dominant, which might affect their preferences.  Look carefuly at the shot basis plots above: is there any evidence of _asymmetry_ in player shooting behavior?  Refer to specific basis images in your answer.    "
   ]
  },
  {
   "cell_type": "markdown",
   "metadata": {},
   "source": [
    "*Write your answer here, replacing this text.*"
   ]
  },
  {
   "cell_type": "markdown",
   "metadata": {},
   "source": [
    "Repeat part 5b, and again plot original, reconstructed and residual shot chats for LaMarcus Aldridge."
   ]
  },
  {
   "cell_type": "code",
   "execution_count": 51,
   "metadata": {},
   "outputs": [],
   "source": [
    "X10_hat = ...\n",
    "\n",
    "fig, ax = plt.subplots(1, 3, figsize=(20,60))\n",
    "\n",
    "# I took the first player appearing in first column \n",
    "# (you probably want to do more interesting players)\n",
    "original_shotchart = ...\n",
    "reconstructed_shotchart = ...\n",
    "residual_chart = ...\n",
    "\n",
    "ax[0].set_title('Original Shooting Pattern')\n",
    "ax[1].set_title('Reconstructed Shooting pattern (r=10)')\n",
    "ax[2].set_title('Residual Shooting Pattern (r=10)')"
   ]
  },
  {
   "cell_type": "markdown",
   "metadata": {
    "collapsed": true
   },
   "source": [
    "### Q5g: Next steps\n",
    "\n",
    "One of the main purposes of exploratory data analysis is to generate new ideas, directions, and hypothesis for future analyses and experiments.  What did you see in this analysis that piqued your interest? What are some directions for follow up analyses that you could do based on what you found in this analysis? What types of tools (programming, statistical or otherwise) would you need for this analysis.  What additional data might you need? Discuss in a paragraph below."
   ]
  },
  {
   "cell_type": "markdown",
   "metadata": {},
   "source": [
    "*Write your answer here, replacing this text.*"
   ]
  },
  {
   "cell_type": "markdown",
   "metadata": {
    "deletable": false,
    "editable": false
   },
   "source": [
    "# Submit\n",
    "Make sure you have run all cells in your notebook in order before running the cell below, so that all images/graphs appear in the output.\n",
    "**Please save before submitting!**"
   ]
  },
  {
   "cell_type": "code",
   "execution_count": null,
   "metadata": {
    "deletable": false,
    "editable": false
   },
   "outputs": [],
   "source": [
    "# Save your notebook first, then run this cell to submit.\n",
    "ok.submit()"
   ]
  }
 ],
 "metadata": {
  "kernelspec": {
   "display_name": "Python 3",
   "language": "python",
   "name": "python3"
  },
  "language_info": {
   "codemirror_mode": {
    "name": "ipython",
    "version": 3
   },
   "file_extension": ".py",
   "mimetype": "text/x-python",
   "name": "python",
   "nbconvert_exporter": "python",
   "pygments_lexer": "ipython3",
   "version": "3.6.7"
  }
 },
 "nbformat": 4,
 "nbformat_minor": 2
}
