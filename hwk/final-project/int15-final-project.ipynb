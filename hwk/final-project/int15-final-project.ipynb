{
 "cells": [
  {
   "cell_type": "markdown",
   "metadata": {},
   "source": [
    "# INT15 FINAL PROJECT\n",
    "\n",
    "## Due Date:  June 12, midnight"
   ]
  },
  {
   "cell_type": "markdown",
   "metadata": {},
   "source": [
    "## About the Project\n",
    "The final project is an opportunity to put all that you have learned in this course. Think of this project as a step towards building your portfolio that showcases your work, skills, and interests. \n",
    "\n",
    "The following two resources provide helpful guidelines for how to approach the project and structure your write-up:\n",
    "* _A Data Science Project Style Guide from Dataquest_: https://www.dataquest.io/blog/data-science-project-style-guide/\n",
    "* _Building a data science portfolio: Storytelling with data_: https://www.dataquest.io/blog/data-science-portfolio-project/\n",
    "\n",
    "Your task is to conduct a start-to-finish analysis of a real dataset. This will require many of the skills we have learned over the quarter: from manipulating data, exploratory analysis and dimension reduction, translating scientific questions into models and algorithms, basic regression and classification, and carefully crafted visualizations.  You should present your results in a clear and concise manner. \n",
    "\n",
    "This is a pair project (i.e. max of 2 people in a group)."
   ]
  },
  {
   "cell_type": "markdown",
   "metadata": {},
   "source": [
    "<span style=\"color:red\">\n",
    "    <h1> PROJECT TITLE GOES HERE </h1>\n",
    "</span>"
   ]
  },
  {
   "cell_type": "markdown",
   "metadata": {},
   "source": [
    "<span style=\"color:blue\">\n",
    "<h2> Names: Partner 1 and Partner 2 </h2>\n",
    "</span>"
   ]
  },
  {
   "cell_type": "markdown",
   "metadata": {},
   "source": [
    "## Dataset, Questions of Interest, and Exploratory Analysis\n",
    "\n",
    "We have provided a handful of vetted datasets that would make for interesting projects.  First, look over these datasets and decide which one is most interesting to you and your partner.  Identify some relevant preliminary questions to pursue with this dataset.\n",
    "\n",
    "Before starting data analysis, answer the following questions:\n",
    "\n",
    "* Are there missing values in the dataset? How do you know?\n",
    "* Are there any missing values that were filled in? \n",
    "* Which parts of the data were entered by a human? \n",
    "\n",
    "Take a look at the Quartz \"bad data guide\" for a more complete list of checks: https://github.com/Quartz/bad-data-guide"
   ]
  },
  {
   "cell_type": "markdown",
   "metadata": {},
   "source": [
    "## The Final Project Report\n",
    "\n",
    "Each group submits **one** report -- **make sure to add your partner to your group on Gradescope and okpy**.\n",
    "\n",
    "The maximum page limit (excluding the title page and appendices) for the project report is **6 pages**. The report should be prepared using 11pt or 12pt font size with 1-inch margins, on US letter paper. \n",
    "\n",
    "The final project report must be structured as follows:\n",
    "\n",
    "**1. Title Page:**\n",
    "\n",
    "Must include the title of your project, and the names of the group members.\n",
    "\n",
    "**2. Abstract (100 words or more):**\n",
    "\n",
    "Brief summary of your project, questions of interest and findings.\n",
    "\n",
    "**3. Introduction (200 words or more):**\n",
    "\n",
    "In this section you should describe \n",
    "\n",
    "(i) the relevant background of your topic, and, \n",
    "\n",
    "(ii) the motivation for your project i.e., why your readers should be interested.\n",
    "\n",
    "**4. Questions of Interest:**\n",
    "\n",
    "State clearly and concisely your questions of interest.\n",
    "\n",
    "**5. Data and Methods:**\n",
    "* Briefly state the source of your data and describe the relevant variables that you will use in your project.  Discuss which \"principles of measurement\" might be particularly relevant to your questions (distortion, relevance, precision, cost).  \n",
    "* For each question of interest, state how you will attempt to answer that question. There is no need to describe the mathematical or statistical details of the methods.\n",
    "* (_Exploratory Analysis_) Exploratory plots of the data and numerical summaries are essential in beginning any analysis. At this stage, scatterplots, added variable plots, box-plots, etc. can give you a sense of relationships that exist between relevant variables. \n",
    "    * Will transformations be needed/useful for any of these variables? \n",
    "    * Can you use dimension reduction (PCA or an alternative) to identify interesting patterns? \n",
    "    * Are outliers and/or measurement error a concern? \n",
    "    * You should comment on your findings, particularly if there are interesting or counterintuitive observations to be made.\n",
    "* What inferential or predictive methods / models are you using (linear regression, classification methods, etc).  Consider using the `statsmodels` and `scikit-learn` libraries.\n",
    "* You are free to use methods not discussed in this class if you are comfortable doing so but you should clearly state the purpose of the method, what it does and how it fits into the ideas we've discussed in class (e.g., exploratory, dimension reduction, regression, classification, visualization, etc).\n"
   ]
  },
  {
   "cell_type": "markdown",
   "metadata": {},
   "source": [
    "**6. Analysis, Results and Interpretation**\n",
    "\n",
    "In separate subsections, you should answer each of your questions of interest. Your narrative should include:\n",
    "\n",
    "* Important Details of the Analysis:\n",
    "     * Perform the analysis. Depending on the questions you want to answer, this will include various items from the following list: \n",
    "     \n",
    "* Assumptions:\n",
    "     * Were your assumptions plausible? Why?\n",
    "     * Are there outliers? \n",
    "\n",
    "* Interpretation:\n",
    "     * What do your results mean for the questions you were trying to answer?\n",
    "         * What  were  two  or  three  of  the  most  interesting  features  you  came  across? Describe  the  process  of  finding  those  features.\n",
    "         * Describe  one  feature  you  thought  would  be useful, but turned out to be ineffective.\n",
    "     * Relevant plots with proper title, variable names, legends, etc. must be included within the body of the text. Plots should not be too small or too large. Make sure to number the figures and include informative captions.\n",
    "    * After conducting the analysis, you should give concrete (i.e. data-specific), accurate and complete interpretations of your results. These interpretations should involve a mix of  terminology, variable names and appropriate scientific units. \n",
    "\n",
    "* Discuss any ethical issues surrounding your data or analysis (1-2 paragraphs).  \n",
    "    * What effects (positve/negative) could your results have? \n",
    "    * Who is it likely to affect? \n",
    "    * How is it likely to affect them? "
   ]
  },
  {
   "cell_type": "markdown",
   "metadata": {},
   "source": [
    "## Conclusions and Future Work (200 words)\n",
    "\n",
    "In this section you should summarize your findings based on your final model in clearly understandable, non-statistical terms. What is the main message produced by your analysis? There may also be additional questions that arise, problems you encounter, or possible extensions of your analysis that could be addressed here. \n",
    "\n",
    "Include any final comments and thoughts about your project. For example, do you trust your results? How general are your results, to what situations do they apply? Add any other comments that are relevant."
   ]
  },
  {
   "cell_type": "markdown",
   "metadata": {},
   "source": [
    "## Grading Criteria\n",
    "\n",
    "Your grade on the project will be based on the following criteria:\n",
    "\n",
    "**1. Compatibility of Scientific Question and Analysis**\n",
    "\n",
    "Is the scientific question being addressed actually of interest, and were suitable tools employed?\n",
    "\n",
    "**2. Coherent Thought Process and Presentation of Results**\n",
    "\n",
    "* Does the analysis indicate a sound understanding of methods discussed in class? This is often best judged by the preliminary comments on the questions of interest as well as the conclusions made after the analysis. \n",
    "* Is the analysis presented in a clear, consistent, coherent style with the appropriately labeled requested components and visualizations?\n",
    "\n",
    "**3. Scope of the analysis and methods used**\n",
    "\n",
    "Did the analysis demonstrate a wide understanding of methodology and ideas presented throughout the quarter? \n",
    "\n",
    "**4. Reproducible results**\n",
    "\n",
    "Is it possible to reproduce the analysis and the visuals by executing the provided code?"
   ]
  },
  {
   "cell_type": "markdown",
   "metadata": {},
   "source": [
    "## Submission\n",
    "\n",
    "You are required to submit two files:\n",
    "\n",
    "1. Submit your completed writeup as a PDF to gradescope.  You should address all of the components described above, adhering to the page limit, and include any figures and tables that are necessary. (Make sure to number figures and tables and include informative captions.)\n",
    "\n",
    "2.  Submit a complete jupyter notebook with all of your analyses to the okpy server.  For your submission, use **this jupyter notebook** as a template (remove the instructions, replacing them with your analysis).  We should be able to reproduce all of your results by running your notebook. \n",
    "\n",
    "Before you submit the notebook, make sure that you select from the top menu `Kernel -> Restart & Clear Output` followed by `Cell -> Run All`. Verify that all computations execute correctly. There should be no errors when we run your notebook. "
   ]
  },
  {
   "cell_type": "code",
   "execution_count": null,
   "metadata": {},
   "outputs": [],
   "source": [
    "# These lines help load your submission for grading.\n",
    "from client.api.notebook import Notebook\n",
    "ok = Notebook('final-project.ok')\n",
    "_ = ok.auth(inline=True)"
   ]
  },
  {
   "cell_type": "code",
   "execution_count": null,
   "metadata": {},
   "outputs": [],
   "source": [
    "_ = ok.submit()"
   ]
  }
 ],
 "metadata": {
  "kernelspec": {
   "display_name": "Python 3",
   "language": "python",
   "name": "python3"
  },
  "language_info": {
   "codemirror_mode": {
    "name": "ipython",
    "version": 3
   },
   "file_extension": ".py",
   "mimetype": "text/x-python",
   "name": "python",
   "nbconvert_exporter": "python",
   "pygments_lexer": "ipython3",
   "version": "3.6.7"
  }
 },
 "nbformat": 4,
 "nbformat_minor": 2
}
